{
 "cells": [
  {
   "cell_type": "markdown",
   "metadata": {},
   "source": [
    "Φορτώνουμε τις βιβλιοθήκες που θα χρειαστούμε."
   ]
  },
  {
   "cell_type": "code",
   "execution_count": 1,
   "metadata": {},
   "outputs": [],
   "source": [
    "import seaborn as sns\n",
    "from sklearn.model_selection import train_test_split\n",
    "from sklearn.model_selection import learning_curve\n",
    "from sklearn.metrics import confusion_matrix\n",
    "from sklearn.ensemble import RandomForestClassifier\n",
    "rfc=RandomForestClassifier()\n",
    "from sklearn.naive_bayes import GaussianNB\n",
    "gnb=GaussianNB()\n",
    "from sklearn.neighbors import KNeighborsClassifier\n",
    "knn=KNeighborsClassifier()\n",
    "from sklearn.metrics import accuracy_score\n",
    "import numpy as np\n",
    "import pandas as pd\n",
    "from sklearn.feature_selection import VarianceThreshold\n",
    "from sklearn.preprocessing import StandardScaler\n",
    "from imblearn.over_sampling import RandomOverSampler, SMOTE\n",
    "from sklearn.decomposition import PCA\n",
    "from xgboost import XGBClassifier\n",
    "sc = StandardScaler()\n",
    "os = SMOTE()\n",
    "pca = PCA()\n",
    "xgb = XGBClassifier()\n",
    "ros=RandomOverSampler()\n",
    "from sklearn.model_selection import GridSearchCV\n",
    "from sklearn.preprocessing import LabelEncoder\n",
    "le = LabelEncoder()\n",
    "import matplotlib.pyplot as plt\n",
    "from sklearn.metrics import accuracy_score\n",
    "from sklearn.metrics import confusion_matrix\n",
    "from imblearn.pipeline import Pipeline\n",
    "from sklearn.pipeline import make_pipeline \n",
    "from sklearn.model_selection import train_test_split\n",
    "%matplotlib inline\n",
    "plt.style.use('seaborn')"
   ]
  },
  {
   "cell_type": "markdown",
   "metadata": {},
   "source": [
    "Διαβάζουμε το dataset."
   ]
  },
  {
   "cell_type": "code",
   "execution_count": 2,
   "metadata": {},
   "outputs": [],
   "source": [
    "users = pd.read_csv('train_users_2.csv')"
   ]
  },
  {
   "cell_type": "code",
   "execution_count": 3,
   "metadata": {},
   "outputs": [
    {
     "data": {
      "text/html": [
       "<div>\n",
       "<style scoped>\n",
       "    .dataframe tbody tr th:only-of-type {\n",
       "        vertical-align: middle;\n",
       "    }\n",
       "\n",
       "    .dataframe tbody tr th {\n",
       "        vertical-align: top;\n",
       "    }\n",
       "\n",
       "    .dataframe thead th {\n",
       "        text-align: right;\n",
       "    }\n",
       "</style>\n",
       "<table border=\"1\" class=\"dataframe\">\n",
       "  <thead>\n",
       "    <tr style=\"text-align: right;\">\n",
       "      <th></th>\n",
       "      <th>id</th>\n",
       "      <th>date_account_created</th>\n",
       "      <th>timestamp_first_active</th>\n",
       "      <th>date_first_booking</th>\n",
       "      <th>gender</th>\n",
       "      <th>age</th>\n",
       "      <th>signup_method</th>\n",
       "      <th>signup_flow</th>\n",
       "      <th>language</th>\n",
       "      <th>affiliate_channel</th>\n",
       "      <th>affiliate_provider</th>\n",
       "      <th>first_affiliate_tracked</th>\n",
       "      <th>signup_app</th>\n",
       "      <th>first_device_type</th>\n",
       "      <th>first_browser</th>\n",
       "      <th>country_destination</th>\n",
       "    </tr>\n",
       "  </thead>\n",
       "  <tbody>\n",
       "    <tr>\n",
       "      <th>0</th>\n",
       "      <td>gxn3p5htnn</td>\n",
       "      <td>2010-06-28</td>\n",
       "      <td>20090319043255</td>\n",
       "      <td>NaN</td>\n",
       "      <td>-unknown-</td>\n",
       "      <td>NaN</td>\n",
       "      <td>facebook</td>\n",
       "      <td>0</td>\n",
       "      <td>en</td>\n",
       "      <td>direct</td>\n",
       "      <td>direct</td>\n",
       "      <td>untracked</td>\n",
       "      <td>Web</td>\n",
       "      <td>Mac Desktop</td>\n",
       "      <td>Chrome</td>\n",
       "      <td>NDF</td>\n",
       "    </tr>\n",
       "    <tr>\n",
       "      <th>1</th>\n",
       "      <td>820tgsjxq7</td>\n",
       "      <td>2011-05-25</td>\n",
       "      <td>20090523174809</td>\n",
       "      <td>NaN</td>\n",
       "      <td>MALE</td>\n",
       "      <td>38.0</td>\n",
       "      <td>facebook</td>\n",
       "      <td>0</td>\n",
       "      <td>en</td>\n",
       "      <td>seo</td>\n",
       "      <td>google</td>\n",
       "      <td>untracked</td>\n",
       "      <td>Web</td>\n",
       "      <td>Mac Desktop</td>\n",
       "      <td>Chrome</td>\n",
       "      <td>NDF</td>\n",
       "    </tr>\n",
       "    <tr>\n",
       "      <th>2</th>\n",
       "      <td>4ft3gnwmtx</td>\n",
       "      <td>2010-09-28</td>\n",
       "      <td>20090609231247</td>\n",
       "      <td>2010-08-02</td>\n",
       "      <td>FEMALE</td>\n",
       "      <td>56.0</td>\n",
       "      <td>basic</td>\n",
       "      <td>3</td>\n",
       "      <td>en</td>\n",
       "      <td>direct</td>\n",
       "      <td>direct</td>\n",
       "      <td>untracked</td>\n",
       "      <td>Web</td>\n",
       "      <td>Windows Desktop</td>\n",
       "      <td>IE</td>\n",
       "      <td>US</td>\n",
       "    </tr>\n",
       "    <tr>\n",
       "      <th>3</th>\n",
       "      <td>bjjt8pjhuk</td>\n",
       "      <td>2011-12-05</td>\n",
       "      <td>20091031060129</td>\n",
       "      <td>2012-09-08</td>\n",
       "      <td>FEMALE</td>\n",
       "      <td>42.0</td>\n",
       "      <td>facebook</td>\n",
       "      <td>0</td>\n",
       "      <td>en</td>\n",
       "      <td>direct</td>\n",
       "      <td>direct</td>\n",
       "      <td>untracked</td>\n",
       "      <td>Web</td>\n",
       "      <td>Mac Desktop</td>\n",
       "      <td>Firefox</td>\n",
       "      <td>other</td>\n",
       "    </tr>\n",
       "    <tr>\n",
       "      <th>4</th>\n",
       "      <td>87mebub9p4</td>\n",
       "      <td>2010-09-14</td>\n",
       "      <td>20091208061105</td>\n",
       "      <td>2010-02-18</td>\n",
       "      <td>-unknown-</td>\n",
       "      <td>41.0</td>\n",
       "      <td>basic</td>\n",
       "      <td>0</td>\n",
       "      <td>en</td>\n",
       "      <td>direct</td>\n",
       "      <td>direct</td>\n",
       "      <td>untracked</td>\n",
       "      <td>Web</td>\n",
       "      <td>Mac Desktop</td>\n",
       "      <td>Chrome</td>\n",
       "      <td>US</td>\n",
       "    </tr>\n",
       "  </tbody>\n",
       "</table>\n",
       "</div>"
      ],
      "text/plain": [
       "           id date_account_created  timestamp_first_active date_first_booking  \\\n",
       "0  gxn3p5htnn           2010-06-28          20090319043255                NaN   \n",
       "1  820tgsjxq7           2011-05-25          20090523174809                NaN   \n",
       "2  4ft3gnwmtx           2010-09-28          20090609231247         2010-08-02   \n",
       "3  bjjt8pjhuk           2011-12-05          20091031060129         2012-09-08   \n",
       "4  87mebub9p4           2010-09-14          20091208061105         2010-02-18   \n",
       "\n",
       "      gender   age signup_method  signup_flow language affiliate_channel  \\\n",
       "0  -unknown-   NaN      facebook            0       en            direct   \n",
       "1       MALE  38.0      facebook            0       en               seo   \n",
       "2     FEMALE  56.0         basic            3       en            direct   \n",
       "3     FEMALE  42.0      facebook            0       en            direct   \n",
       "4  -unknown-  41.0         basic            0       en            direct   \n",
       "\n",
       "  affiliate_provider first_affiliate_tracked signup_app first_device_type  \\\n",
       "0             direct               untracked        Web       Mac Desktop   \n",
       "1             google               untracked        Web       Mac Desktop   \n",
       "2             direct               untracked        Web   Windows Desktop   \n",
       "3             direct               untracked        Web       Mac Desktop   \n",
       "4             direct               untracked        Web       Mac Desktop   \n",
       "\n",
       "  first_browser country_destination  \n",
       "0        Chrome                 NDF  \n",
       "1        Chrome                 NDF  \n",
       "2            IE                  US  \n",
       "3       Firefox               other  \n",
       "4        Chrome                  US  "
      ]
     },
     "execution_count": 3,
     "metadata": {},
     "output_type": "execute_result"
    }
   ],
   "source": [
    "users.head()"
   ]
  },
  {
   "cell_type": "markdown",
   "metadata": {},
   "source": [
    "Το baseline πρόβλεψης είναι περίπου 58%, όσο το ποσοστό της μεγαλύτερης κλάσης ('NDF')."
   ]
  },
  {
   "cell_type": "code",
   "execution_count": 32,
   "metadata": {},
   "outputs": [
    {
     "data": {
      "text/plain": [
       "NDF      0.583473\n",
       "US       0.292226\n",
       "other    0.047290\n",
       "FR       0.023532\n",
       "IT       0.013282\n",
       "GB       0.010888\n",
       "ES       0.010536\n",
       "CA       0.006690\n",
       "DE       0.004971\n",
       "NL       0.003570\n",
       "AU       0.002525\n",
       "PT       0.001017\n",
       "Name: country_destination, dtype: float64"
      ]
     },
     "execution_count": 32,
     "metadata": {},
     "output_type": "execute_result"
    }
   ],
   "source": [
    "users.country_destination.value_counts() / len(users)"
   ]
  },
  {
   "cell_type": "code",
   "execution_count": 6,
   "metadata": {},
   "outputs": [
    {
     "data": {
      "text/plain": [
       "Text(0, 0.5, 'Percentage of booking')"
      ]
     },
     "execution_count": 6,
     "metadata": {},
     "output_type": "execute_result"
    },
    {
     "data": {
      "image/png": "[encoded data removed]",
      "text/plain": [
       "<Figure size 432x288 with 1 Axes>"
      ]
     },
     "metadata": {
      "needs_background": "light"
     },
     "output_type": "display_data"
    }
   ],
   "source": [
    "sns.set_style()\n",
    "des_countries = users.country_destination.value_counts(dropna = False) /users.shape[0] * 100\n",
    "des_countries.plot('bar', rot = 0)\n",
    "plt.xlabel('Destination country')\n",
    "plt.ylabel('Percentage of booking')"
   ]
  },
  {
   "cell_type": "code",
   "execution_count": 8,
   "metadata": {},
   "outputs": [
    {
     "data": {
      "text/plain": [
       "<matplotlib.axes._subplots.AxesSubplot at 0x26d0daa8940>"
      ]
     },
     "execution_count": 8,
     "metadata": {},
     "output_type": "execute_result"
    },
    {
     "data": {
      "image/png": "[encoded data removed]",
      "text/plain": [
       "<Figure size 1080x360 with 2 Axes>"
      ]
     },
     "metadata": {
      "needs_background": "light"
     },
     "output_type": "display_data"
    }
   ],
   "source": [
    "fig, axes = plt.subplots(nrows = 1, ncols = 2, figsize = (15, 5))\n",
    "\n",
    "axes[0].set_title('Age < 200')\n",
    "axes[0].set_xlabel('Age')\n",
    "axes[0].set_ylabel('Count')\n",
    "users[users.age < 200].age.hist(bins = 10, ax = axes[0])\n",
    "\n",
    "axes[1].set_title('Age >= 200')\n",
    "axes[1].set_xlabel('Age')\n",
    "axes[1].set_ylabel('Count')\n",
    "users[users.age >= 200].age.hist(bins = 10, ax = axes[1])"
   ]
  },
  {
   "cell_type": "code",
   "execution_count": 33,
   "metadata": {},
   "outputs": [
    {
     "data": {
      "text/plain": [
       "id                              0\n",
       "date_account_created            0\n",
       "timestamp_first_active          0\n",
       "date_first_booking         124543\n",
       "gender                          0\n",
       "age                         87990\n",
       "signup_method                   0\n",
       "signup_flow                     0\n",
       "language                        0\n",
       "affiliate_channel               0\n",
       "affiliate_provider              0\n",
       "first_affiliate_tracked      6065\n",
       "signup_app                      0\n",
       "first_device_type               0\n",
       "first_browser                   0\n",
       "country_destination             0\n",
       "dtype: int64"
      ]
     },
     "execution_count": 33,
     "metadata": {},
     "output_type": "execute_result"
    }
   ],
   "source": [
    "#nan τιμές σε κάθε στήλη\n",
    "users.isnull().sum(axis=0)"
   ]
  },
  {
   "cell_type": "markdown",
   "metadata": {},
   "source": [
    "Διώχνουμε id και date_first_booking. Το πρώτο καθώς δεν θα το χρησιμοποιήσουμε στην ανάλυσή μας και το δεύτερο επειδή δίνει πληροφορία με μεγάλη συσχέτιση με την target variable (αν δεν υπάρχει τιμή date_first_booking δεν υπάρχει και προορισμός ('NDF')). Θέλουμε το μοντέλο να εκπαιδευτεί στις υπόλοιπες μεταβλητές."
   ]
  },
  {
   "cell_type": "code",
   "execution_count": 34,
   "metadata": {},
   "outputs": [],
   "source": [
    "users = users.drop(['id', 'date_first_booking'], axis=1)"
   ]
  },
  {
   "cell_type": "code",
   "execution_count": 38,
   "metadata": {},
   "outputs": [],
   "source": [
    "# αντικαθιστούμε τα nan με 'untracked' στην μεταβλητή 'first_affiliate_tracked' feature\n",
    "users.loc[users.first_affiliate_tracked.isnull(), 'first_affiliate_tracked'] = 'untracked'"
   ]
  },
  {
   "cell_type": "code",
   "execution_count": 39,
   "metadata": {},
   "outputs": [],
   "source": [
    "#αντικαθιστούμε την τιμή 'OTHER' με 'unknown'\n",
    "users.gender= users.gender.replace('OTHER', '-unknown-')"
   ]
  },
  {
   "cell_type": "markdown",
   "metadata": {},
   "source": [
    "# Χωρίς one hot encoding\n",
    "Αρχικά δεν θα κάνουμε one hot encoding για να δούμε τα αποτελέσματα που θα μας δώσουν οι ταξινομητές μας. Σημειώνεται ότι ο θεωρητικά καλύτερος (XGBClassifier) επεξεργάζεται τις κλάσεις μόνος του, δηλαδή δουλεύει και χωρίς one hot encoding. Υπάρχει γενικά διχογνωμία στην κοινότητα για το εάν βελτιώνεται ή όχι ο συγκεκριμένος ταξινομητής με one hot encoding. Για αυτό δοκιμάζουμε και τις δύο περιπτώσεις. Ο Random Forest Classifier, ως decision tree, δεν χρειάζεται one hot encoding."
   ]
  },
  {
   "cell_type": "code",
   "execution_count": 47,
   "metadata": {},
   "outputs": [],
   "source": [
    "dac = np.vstack(users.date_account_created.astype(str).apply(lambda x:list(map(int,x.split('-')))).values)\n",
    "users['dac_year'] = dac[:,0]\n",
    "users['dac_month'] = dac[:,1]\n",
    "users['dac_day'] = dac[:,2]\n",
    "users=users.drop(['date_account_created'],axis=1)\n",
    "\n",
    "tfa = np.vstack(users.timestamp_first_active.astype(str).apply(lambda x:list(map(int,[x[:4],x[4:6],x[6:8],x[8:10],x[10:12],x[12:14]]))).values)\n",
    "users['tfa_year'] = tfa[:,0]\n",
    "users['tfa_month'] = tfa[:,1]\n",
    "users['tfa_day'] = tfa[:,2]\n",
    "users=users.drop(['timestamp_first_active'],axis=1)"
   ]
  },
  {
   "cell_type": "code",
   "execution_count": 54,
   "metadata": {
    "collapsed": true
   },
   "outputs": [
    {
     "name": "stderr",
     "output_type": "stream",
     "text": [
      "C:\\Users\\Fotis\\Anaconda3\\lib\\site-packages\\pandas\\core\\ops.py:1649: FutureWarning: elementwise comparison failed; returning scalar instead, but in the future will perform elementwise comparison\n",
      "  result = method(y)\n"
     ]
    }
   ],
   "source": [
    "users.loc[users.language == '-unknown-', 'language'] = users.language.mode()[0]\n",
    "users.language = le.fit_transform(users.language)\n",
    "users.gender = le.fit_transform(users.gender)\n",
    "users.signup_app = le.fit_transform(users.signup_app)\n",
    "users.first_device_type = le.fit_transform(users.first_device_type)\n",
    "users.first_browser = le.fit_transform(users.first_browser)\n",
    "users.signup_method = le.fit_transform(users.signup_method)\n",
    "users.affiliate_channel = le.fit_transform(users.affiliate_channel)\n",
    "users.affiliate_provider = le.fit_transform(users.affiliate_provider)\n",
    "users.first_affiliate_tracked = le.fit_transform(users.first_affiliate_tracked)"
   ]
  },
  {
   "cell_type": "code",
   "execution_count": 55,
   "metadata": {},
   "outputs": [],
   "source": [
    "lab_old=pd.DataFrame(users['country_destination'])\n",
    "feat_old=pd.DataFrame(users.drop(['country_destination'],axis=1))"
   ]
  },
  {
   "cell_type": "code",
   "execution_count": 56,
   "metadata": {},
   "outputs": [],
   "source": [
    "train_old,test_old,train_lab,test_lab=train_test_split(feat_old,lab_old,test_size=0.33,random_state=6)"
   ]
  },
  {
   "cell_type": "code",
   "execution_count": 57,
   "metadata": {},
   "outputs": [],
   "source": [
    "train_old=pd.DataFrame(train_old)\n",
    "test_old=pd.DataFrame(test_old)\n",
    "train_old.columns=feat_old.columns\n",
    "test_old.columns=feat_old.columns"
   ]
  },
  {
   "cell_type": "code",
   "execution_count": 58,
   "metadata": {},
   "outputs": [],
   "source": [
    "train_old.loc[train_old.age > 90, 'age'] = np.nan\n",
    "train_old.loc[train_old.age < 16, 'age'] = np.nan\n",
    "med=train_old.age.median()\n",
    "test_old.loc[test_old.age > 90, 'age'] = np.nan\n",
    "test_old.loc[test_old.age < 16, 'age'] = np.nan\n",
    "train_old['age']=train_old['age'].fillna(med)\n",
    "test_old['age']=test_old['age'].fillna(med)\n",
    "feat_old.loc[feat_old.age > 90, 'age'] = np.nan\n",
    "feat_old.loc[feat_old.age < 16, 'age'] = np.nan\n",
    "feat_old['age']=feat_old['age'].fillna(med)"
   ]
  },
  {
   "cell_type": "code",
   "execution_count": 59,
   "metadata": {},
   "outputs": [
    {
     "name": "stderr",
     "output_type": "stream",
     "text": [
      "C:\\Users\\Fotis\\Anaconda3\\lib\\site-packages\\ipykernel_launcher.py:1: DataConversionWarning: A column-vector y was passed when a 1d array was expected. Please change the shape of y to (n_samples,), for example using ravel().\n",
      "  \"\"\"Entry point for launching an IPython kernel.\n",
      "C:\\Users\\Fotis\\Anaconda3\\lib\\site-packages\\ipykernel_launcher.py:2: DataConversionWarning: A column-vector y was passed when a 1d array was expected. Please change the shape of y to (n_samples, ), for example using ravel().\n",
      "  \n",
      "C:\\Users\\Fotis\\Anaconda3\\lib\\site-packages\\sklearn\\utils\\validation.py:761: DataConversionWarning: A column-vector y was passed when a 1d array was expected. Please change the shape of y to (n_samples, ), for example using ravel().\n",
      "  y = column_or_1d(y, warn=True)\n",
      "C:\\Users\\Fotis\\Anaconda3\\lib\\site-packages\\sklearn\\preprocessing\\label.py:219: DataConversionWarning: A column-vector y was passed when a 1d array was expected. Please change the shape of y to (n_samples, ), for example using ravel().\n",
      "  y = column_or_1d(y, warn=True)\n",
      "C:\\Users\\Fotis\\Anaconda3\\lib\\site-packages\\sklearn\\preprocessing\\label.py:252: DataConversionWarning: A column-vector y was passed when a 1d array was expected. Please change the shape of y to (n_samples, ), for example using ravel().\n",
      "  y = column_or_1d(y, warn=True)\n"
     ]
    },
    {
     "data": {
      "text/plain": [
       "XGBClassifier(base_score=0.5, booster='gbtree', colsample_bylevel=1,\n",
       "       colsample_bytree=1, gamma=0, learning_rate=0.1, max_delta_step=0,\n",
       "       max_depth=3, min_child_weight=1, missing=None, n_estimators=100,\n",
       "       n_jobs=1, nthread=None, objective='multi:softprob', random_state=0,\n",
       "       reg_alpha=0, reg_lambda=1, scale_pos_weight=1, seed=None,\n",
       "       silent=True, subsample=1)"
      ]
     },
     "execution_count": 59,
     "metadata": {},
     "output_type": "execute_result"
    }
   ],
   "source": [
    "rfc.fit(train_old,train_lab)\n",
    "knn.fit(train_old,train_lab)\n",
    "gnb.fit(train_old,train_lab)\n",
    "xgb.fit(train_old,train_lab)"
   ]
  },
  {
   "cell_type": "code",
   "execution_count": 62,
   "metadata": {},
   "outputs": [
    {
     "name": "stdout",
     "output_type": "stream",
     "text": [
      " Random Forest : 0.5726231207143769 \n",
      " KNN : 0.5645310126492427 \n",
      " Gaussian Naive Bayes : 0.5386078734791806 \n",
      " XGBoost : 0.6330158009057483\n"
     ]
    }
   ],
   "source": [
    "print(' Random Forest :',rfc.score(test_old,test_lab),\n",
    "     '\\n KNN :',knn.score(test_old,test_lab),\n",
    "     '\\n Gaussian Naive Bayes :',gnb.score(test_old,test_lab),\n",
    "     '\\n XGBoost :',xgb.score(test_old,test_lab))"
   ]
  },
  {
   "cell_type": "markdown",
   "metadata": {},
   "source": [
    "Παρατηρούμε ότι ο καλύτερος ταξινομητής στο αρχικό dataset είναι ο XGBoost. Αυτό είναι κάτι που περιμέναμε καθώς είναι ο state of the art σε τέτοια προβλήματα. Ωστόσο οι τιμές του score δεν είναι ικανοποιητικές, μόλις 5% πάνω από το baseline. Για αυτό θα χρησιμοποιήσουμε over sampling. Θα περιοριστούμε μόνο στους Random Forest και XGBoost, λόγω του ότι είχαν το καλύτερο score αρχικά."
   ]
  },
  {
   "cell_type": "code",
   "execution_count": 63,
   "metadata": {},
   "outputs": [],
   "source": [
    "features,labels=ros.fit_resample(feat_old,lab_old.values.ravel())"
   ]
  },
  {
   "cell_type": "code",
   "execution_count": 64,
   "metadata": {},
   "outputs": [],
   "source": [
    "train_users,test_users,train_labels,test_labels=train_test_split(features,labels,test_size=0.33,random_state=5)"
   ]
  },
  {
   "cell_type": "code",
   "execution_count": 65,
   "metadata": {},
   "outputs": [
    {
     "data": {
      "text/plain": [
       "XGBClassifier(base_score=0.5, booster='gbtree', colsample_bylevel=1,\n",
       "       colsample_bytree=1, gamma=0, learning_rate=0.1, max_delta_step=0,\n",
       "       max_depth=3, min_child_weight=1, missing=None, n_estimators=100,\n",
       "       n_jobs=1, nthread=None, objective='multi:softprob', random_state=0,\n",
       "       reg_alpha=0, reg_lambda=1, scale_pos_weight=1, seed=None,\n",
       "       silent=True, subsample=1)"
      ]
     },
     "execution_count": 65,
     "metadata": {},
     "output_type": "execute_result"
    }
   ],
   "source": [
    "rfc.fit(train_users,train_labels)\n",
    "xgb.fit(train_users,train_labels)"
   ]
  },
  {
   "cell_type": "code",
   "execution_count": 67,
   "metadata": {},
   "outputs": [
    {
     "name": "stdout",
     "output_type": "stream",
     "text": [
      " Random Forest : 0.8278794417865103 \n",
      " XGBoost : 0.3453768508922614\n"
     ]
    }
   ],
   "source": [
    "print(' Random Forest :',rfc.score(test_old.values,test_lab),\n",
    "     '\\n XGBoost :',xgb.score(test_old.values,test_lab))"
   ]
  },
  {
   "cell_type": "markdown",
   "metadata": {},
   "source": [
    "Ο Random Over Sampler δεν συνδυάζεται σωστά με τον XGBoost, κάτι που φαίνεται στο αποτέλεσμα. Ωστόσο, ο Random Forest συνδυάζεται πολύ καλά (το είδαμε και στο dataset του μαθήματος Εξόρυξη γνώσης από Δεδομένα) και βγάζει ικανοποιητικό score (όχι για submission στο Kaggle, αυτό θα γινόταν μόνο με hyper parameter tuning του XGBoost). Ο confusion matrix δείχνει πολύ καλή προβλεπτική ικανότητα σε όλες τις κλάσεις. Η καμπύλη μάθησης δείχνει ότι χρειαζόταν αρκετά δεδομένα (περίπου 300000, που προέκυψαν από τον over sampler) για να αρχίσει να συγκλίνει προς το τελικό αποτέλεσμα (δείχνει score κοντά στο 90% γιατί η καμπύλη αφορά τα δεδομένα του over sampled dataset. Στα πραγματικά έχει score περίπου 83%)."
   ]
  },
  {
   "cell_type": "code",
   "execution_count": 73,
   "metadata": {},
   "outputs": [],
   "source": [
    "def plot_confusion_matrix(y_true, y_pred,classes, \n",
    "                          normalize,\n",
    "                          title=None,\n",
    "                          cmap=plt.cm.Blues):\n",
    "    \n",
    "    if not title:\n",
    "        if normalize:\n",
    "            title = 'Normalized confusion matrix'\n",
    "        else:\n",
    "            title = 'Confusion matrix, without normalization'\n",
    "\n",
    "    # Compute confusion matrix\n",
    "    cm = confusion_matrix(y_true, y_pred)\n",
    "    \n",
    "    if normalize:\n",
    "        cm = cm.astype('float') / cm.sum(axis=1)[:, np.newaxis]\n",
    "        print(\"Normalized confusion matrix\")\n",
    "    else:\n",
    "        print('Confusion matrix, without normalization')\n",
    "\n",
    "    print(cm)\n",
    "\n",
    "    fig, ax = plt.subplots()\n",
    "    im = ax.imshow(cm, interpolation='nearest', cmap=cmap)\n",
    "    ax.figure.colorbar(im, ax=ax)\n",
    "    # We want to show all ticks...\n",
    "    ax.set(xticks=np.arange(cm.shape[1]),\n",
    "           yticks=np.arange(cm.shape[0]),\n",
    "           # ... and label them with the respective list entries\n",
    "           xticklabels=classes, yticklabels=classes,\n",
    "           title=title,\n",
    "           ylabel='True label',\n",
    "           xlabel='Predicted label')\n",
    "\n",
    "    # Rotate the tick labels and set their alignment.\n",
    "    plt.setp(ax.get_xticklabels(), rotation=45, ha=\"right\",\n",
    "             rotation_mode=\"anchor\")\n",
    "\n",
    "    # Loop over data dimensions and create text annotations.\n",
    "    fmt = '.2f' if normalize else 'd'\n",
    "    thresh = cm.max() / 2.\n",
    "    for i in range(cm.shape[0]):\n",
    "        for j in range(cm.shape[1]):\n",
    "            ax.text(j, i, format(cm[i, j], fmt),\n",
    "                    ha=\"center\", va=\"center\",\n",
    "                    color=\"white\" if cm[i, j] > thresh else \"black\")\n",
    "    fig.tight_layout()\n",
    "    return ax"
   ]
  },
  {
   "cell_type": "code",
   "execution_count": 74,
   "metadata": {},
   "outputs": [
    {
     "name": "stdout",
     "output_type": "stream",
     "text": [
      "Confusion matrix, without normalization\n",
      "[[  197     0     0     0     0     0     0     0     0     0     0     0]\n",
      " [    0   486     1     0     0     0     0     0     1     1     0     0]\n",
      " [    0     1   336     0     0     0     0     0     1     0     0     0]\n",
      " [    0     2     0   734     0     0     0     0     1     0     0     0]\n",
      " [    0     5     0     6  1621     4     9     1     4     0     0     2]\n",
      " [    1     1     2     1     0   746     1     0     1     1     0     0]\n",
      " [    2     5     3     6     1     3   886     0     1     1     0     0]\n",
      " [   67   267   182   382   775   450   574 32451   124    35  4293  1406]\n",
      " [    0     0     0     0     0     0     0     0   237     0     0     0]\n",
      " [    0     0     0     0     0     0     0     0     0    81     0     0]\n",
      " [   23    61    39   121   208   121   147  2220    44     8 17422   370]\n",
      " [    0    12     9    19    25    17    18    24     7     2     5  3118]]\n"
     ]
    },
    {
     "data": {
      "text/plain": [
       "<matplotlib.axes._subplots.AxesSubplot at 0x17f975a4208>"
      ]
     },
     "execution_count": 74,
     "metadata": {},
     "output_type": "execute_result"
    },
    {
     "data": {
      "image/png": "[encoded data removed]",
      "text/plain": [
       "<Figure size 576x396 with 2 Axes>"
      ]
     },
     "metadata": {},
     "output_type": "display_data"
    }
   ],
   "source": [
    "cls=list(range(12))\n",
    "plot_confusion_matrix(test_lab,rfc.predict(test_old.values),cls,normalize=0)"
   ]
  },
  {
   "cell_type": "code",
   "execution_count": 75,
   "metadata": {},
   "outputs": [
    {
     "data": {
      "image/png": "[encoded data removed]",
      "text/plain": [
       "<Figure size 576x396 with 1 Axes>"
      ]
     },
     "metadata": {},
     "output_type": "display_data"
    }
   ],
   "source": [
    "def plot_learning_curve(estimator, title, X, y, ylim=None, cv=None,\n",
    "                        n_jobs=None, train_sizes=np.linspace(.1, 1.0, 5)):\n",
    "\n",
    "\n",
    "    \n",
    "    plt.figure()\n",
    "    plt.title(title)\n",
    "    if ylim is not None:\n",
    "        plt.ylim(*ylim)\n",
    "    plt.xlabel(\"Training examples\")\n",
    "    plt.ylabel(\"Score\")\n",
    "    train_sizes, train_scores, test_scores = learning_curve(\n",
    "        estimator, X, y, cv=cv, n_jobs=n_jobs, train_sizes=train_sizes)\n",
    "    train_scores_mean = np.mean(train_scores, axis=1)\n",
    "    train_scores_std = np.std(train_scores, axis=1)\n",
    "    test_scores_mean = np.mean(test_scores, axis=1)\n",
    "    test_scores_std = np.std(test_scores, axis=1)\n",
    "    plt.grid()\n",
    "\n",
    "    plt.fill_between(train_sizes, train_scores_mean - train_scores_std,\n",
    "                     train_scores_mean + train_scores_std, alpha=0.1,\n",
    "                     color=\"r\")\n",
    "    plt.fill_between(train_sizes, test_scores_mean - test_scores_std,\n",
    "                     test_scores_mean + test_scores_std, alpha=0.1, color=\"g\")\n",
    "    plt.plot(train_sizes, train_scores_mean, 'o-', color=\"r\",\n",
    "             label=\"Training score\")\n",
    "    plt.plot(train_sizes, test_scores_mean, 'o-', color=\"g\",\n",
    "             label=\"Cross-validation score\")\n",
    "\n",
    "    plt.legend(loc=\"best\")\n",
    "    return plt\n",
    "\n",
    "\n",
    "\n",
    "\n",
    "title = r\"Learning Curve RFC\"\n",
    "estimator = rfc\n",
    "plot_learning_curve(estimator, title, train_users, train_labels, cv=10, n_jobs=4)\n",
    "\n",
    "plt.show()"
   ]
  },
  {
   "cell_type": "markdown",
   "metadata": {},
   "source": [
    "# Με one hot encoding\n",
    "Εξετάζουμε τώρα τα αποτελέσματα με one hot encoding."
   ]
  },
  {
   "cell_type": "code",
   "execution_count": 76,
   "metadata": {},
   "outputs": [],
   "source": [
    "users = pd.read_csv('train_users_2.csv')"
   ]
  },
  {
   "cell_type": "code",
   "execution_count": 77,
   "metadata": {},
   "outputs": [],
   "source": [
    "users = users.drop(['id', 'date_first_booking'], axis=1)"
   ]
  },
  {
   "cell_type": "code",
   "execution_count": 78,
   "metadata": {},
   "outputs": [],
   "source": [
    "#feature enginering\n",
    "dac = np.vstack(users.date_account_created.astype(str).apply(lambda x:list(map(int,x.split('-')))).values)\n",
    "users['dac_year'] = dac[:,0]\n",
    "users['dac_month'] = dac[:,1]\n",
    "users['dac_day'] = dac[:,2]\n",
    "users=users.drop(['date_account_created'],axis=1)\n",
    "\n",
    "tfa = np.vstack(users.timestamp_first_active.astype(str).apply(lambda x:list(map(int,[x[:4],x[4:6],x[6:8],x[8:10],x[10:12],x[12:14]]))).values)\n",
    "users['tfa_year'] = tfa[:,0]\n",
    "users['tfa_month'] = tfa[:,1]\n",
    "users['tfa_day'] = tfa[:,2]\n",
    "users=users.drop(['timestamp_first_active'],axis=1)"
   ]
  },
  {
   "cell_type": "code",
   "execution_count": 79,
   "metadata": {
    "collapsed": true
   },
   "outputs": [
    {
     "name": "stdout",
     "output_type": "stream",
     "text": [
      "age                                   76.933835\n",
      "dac_year                               0.879412\n",
      "dac_month                             10.487830\n",
      "dac_day                               76.485432\n",
      "tfa_year                               0.880563\n",
      "tfa_month                             10.486029\n",
      "tfa_day                               76.477881\n",
      "gender_-unknown-                       0.247432\n",
      "gender_FEMALE                          0.208015\n",
      "gender_MALE                            0.190267\n",
      "signup_method_basic                    0.202847\n",
      "signup_method_facebook                 0.201668\n",
      "signup_method_google                   0.002692\n",
      "signup_flow_0                          0.176538\n",
      "signup_flow_1                          0.004802\n",
      "signup_flow_2                          0.030771\n",
      "signup_flow_3                          0.040054\n",
      "signup_flow_4                          0.000007\n",
      "signup_flow_5                          0.000140\n",
      "signup_flow_6                          0.001459\n",
      "signup_flow_8                          0.001215\n",
      "signup_flow_10                         0.000007\n",
      "signup_flow_12                         0.041978\n",
      "signup_flow_15                         0.000056\n",
      "signup_flow_16                         0.000070\n",
      "signup_flow_20                         0.000049\n",
      "signup_flow_21                         0.000873\n",
      "signup_flow_23                         0.013252\n",
      "signup_flow_24                         0.019847\n",
      "signup_flow_25                         0.064307\n",
      "                                        ...    \n",
      "first_browser_IE Mobile                0.000147\n",
      "first_browser_IceDragon                0.000007\n",
      "first_browser_IceWeasel                0.000070\n",
      "first_browser_Iron                     0.000063\n",
      "first_browser_Kindle Browser           0.000007\n",
      "first_browser_Maxthon                  0.000196\n",
      "first_browser_Mobile Firefox           0.000133\n",
      "first_browser_Mobile Safari            0.081740\n",
      "first_browser_Mozilla                  0.000014\n",
      "first_browser_NetNewsWire              0.000007\n",
      "first_browser_OmniWeb                  0.000007\n",
      "first_browser_Opera                    0.000936\n",
      "first_browser_Opera Mini               0.000007\n",
      "first_browser_Opera Mobile             0.000000\n",
      "first_browser_Outlook 2007             0.000000\n",
      "first_browser_PS Vita browser          0.000007\n",
      "first_browser_Pale Moon                0.000070\n",
      "first_browser_Palm Pre web browser     0.000007\n",
      "first_browser_RockMelt                 0.000098\n",
      "first_browser_Safari                   0.166708\n",
      "first_browser_SeaMonkey                0.000056\n",
      "first_browser_Silk                     0.000566\n",
      "first_browser_SiteKiosk                0.000119\n",
      "first_browser_SlimBrowser              0.000014\n",
      "first_browser_Sogou Explorer           0.000140\n",
      "first_browser_Stainless                0.000000\n",
      "first_browser_TenFourFox               0.000028\n",
      "first_browser_TheWorld Browser         0.000000\n",
      "first_browser_Yandex.Browser           0.000056\n",
      "first_browser_wOSBrowser               0.000042\n",
      "Length: 153, dtype: float64\n",
      "76.93383514293645\n"
     ]
    }
   ],
   "source": [
    "train_variance = X_train.var(axis=0)\n",
    "print(train_variance)\n",
    "print(np.max(train_variance))"
   ]
  },
  {
   "cell_type": "code",
   "execution_count": 80,
   "metadata": {},
   "outputs": [],
   "source": [
    "#One-hot-encoding features\n",
    "ohe_feats = ['gender', 'signup_method', 'signup_flow', 'language', 'affiliate_channel', 'affiliate_provider', \n",
    "             'first_affiliate_tracked', 'signup_app', 'first_device_type', 'first_browser']\n",
    "for f in ohe_feats:\n",
    "    users_dummy = pd.get_dummies(users[f], prefix=f)\n",
    "    users = users.drop([f], axis=1)\n",
    "    users = pd.concat((users, users_dummy), axis=1)"
   ]
  },
  {
   "cell_type": "code",
   "execution_count": 81,
   "metadata": {},
   "outputs": [],
   "source": [
    "labels = users.country_destination\n",
    "users = users.drop(['country_destination'], axis=1)\n",
    "\n",
    "le = LabelEncoder()\n",
    "labels_transformed = le.fit_transform(labels)"
   ]
  },
  {
   "cell_type": "code",
   "execution_count": 82,
   "metadata": {},
   "outputs": [],
   "source": [
    "#Splitting train and test\n",
    "from sklearn.model_selection import train_test_split\n",
    "X_train, X_test, y_train, y_test = train_test_split(users, labels_transformed, test_size=0.33, random_state=123)"
   ]
  },
  {
   "cell_type": "code",
   "execution_count": 83,
   "metadata": {
    "collapsed": true
   },
   "outputs": [
    {
     "name": "stderr",
     "output_type": "stream",
     "text": [
      "C:\\Users\\Fotis\\Anaconda3\\lib\\site-packages\\pandas\\core\\indexing.py:543: SettingWithCopyWarning: \n",
      "A value is trying to be set on a copy of a slice from a DataFrame.\n",
      "Try using .loc[row_indexer,col_indexer] = value instead\n",
      "\n",
      "See the caveats in the documentation: http://pandas.pydata.org/pandas-docs/stable/indexing.html#indexing-view-versus-copy\n",
      "  self.obj[item] = s\n",
      "C:\\Users\\Fotis\\Anaconda3\\lib\\site-packages\\ipykernel_launcher.py:9: SettingWithCopyWarning: \n",
      "A value is trying to be set on a copy of a slice from a DataFrame.\n",
      "Try using .loc[row_indexer,col_indexer] = value instead\n",
      "\n",
      "See the caveats in the documentation: http://pandas.pydata.org/pandas-docs/stable/indexing.html#indexing-view-versus-copy\n",
      "  if __name__ == '__main__':\n",
      "C:\\Users\\Fotis\\Anaconda3\\lib\\site-packages\\ipykernel_launcher.py:10: SettingWithCopyWarning: \n",
      "A value is trying to be set on a copy of a slice from a DataFrame.\n",
      "Try using .loc[row_indexer,col_indexer] = value instead\n",
      "\n",
      "See the caveats in the documentation: http://pandas.pydata.org/pandas-docs/stable/indexing.html#indexing-view-versus-copy\n",
      "  # Remove the CWD from sys.path while we load stuff.\n"
     ]
    }
   ],
   "source": [
    "#Process την μεταβλητή \"age\".\n",
    "X_train.loc[X_train.age > 90, 'age'] = np.nan\n",
    "X_train.loc[X_train.age < 16, 'age'] = np.nan\n",
    "X_test.loc[X_test.age > 90, 'age'] = np.nan\n",
    "X_test.loc[X_test.age < 16, 'age'] = np.nan\n",
    "\n",
    "med = X_train.age.median()\n",
    "\n",
    "X_train['age'] = X_train['age'].fillna(med)\n",
    "X_test['age'] = X_test['age'].fillna(med)"
   ]
  },
  {
   "cell_type": "markdown",
   "metadata": {},
   "source": [
    "To Gridsearch δεν μπόρεσε να τρέξει για όλο τον συνδυασμό παραμέτρων που χρειαζόμασταν (ξεπερνούσε το runtime του Colab με GPU runtime type). Τρέχοντάς το μόνο με SMOTE και PCA φαίνεται το classification report, που δεν είναι καθόλου ικανοποιητικό ούτε για τον Random Forest ούτε για τον XGBoost."
   ]
  },
  {
   "cell_type": "code",
   "execution_count": 17,
   "metadata": {
    "collapsed": true
   },
   "outputs": [
    {
     "name": "stdout",
     "output_type": "stream",
     "text": [
      "Fitting 3 folds for each of 4 candidates, totalling 12 fits\n"
     ]
    },
    {
     "name": "stderr",
     "output_type": "stream",
     "text": [
      "[Parallel(n_jobs=-1)]: Using backend LokyBackend with 12 concurrent workers.\n",
      "[Parallel(n_jobs=-1)]: Done   2 out of  12 | elapsed: 10.4min remaining: 51.9min\n",
      "[Parallel(n_jobs=-1)]: Done  12 out of  12 | elapsed: 14.0min finished\n",
      "C:\\Users\\Fotis\\Anaconda3\\lib\\site-packages\\sklearn\\preprocessing\\data.py:625: DataConversionWarning: Data with input dtype uint8, int32, float64 were all converted to float64 by StandardScaler.\n",
      "  return self.partial_fit(X, y)\n",
      "C:\\Users\\Fotis\\Anaconda3\\lib\\site-packages\\sklearn\\base.py:465: DataConversionWarning: Data with input dtype uint8, int32, float64 were all converted to float64 by StandardScaler.\n",
      "  return self.fit(X, y, **fit_params).transform(X)\n",
      "C:\\Users\\Fotis\\Anaconda3\\lib\\site-packages\\sklearn\\ensemble\\forest.py:246: FutureWarning: The default value of n_estimators will change from 10 in version 0.20 to 100 in 0.22.\n",
      "  \"10 in version 0.20 to 100 in 0.22.\", FutureWarning)\n"
     ]
    },
    {
     "data": {
      "text/plain": [
       "GridSearchCV(cv=3, error_score='raise-deprecating',\n",
       "       estimator=Pipeline(memory=None,\n",
       "     steps=[('scaler', StandardScaler(copy=True, with_mean=True, with_std=True)), ('sampler', SMOTE(k_neighbors=5, kind='deprecated', m_neighbors='deprecated', n_jobs=1,\n",
       "   out_step='deprecated', random_state=None, ratio=None,\n",
       "   sampling_strategy='auto', svm_estimator='deprecated')), ('pca', PCA(copy=Tr...obs=None,\n",
       "            oob_score=False, random_state=None, verbose=0,\n",
       "            warm_start=False))]),\n",
       "       fit_params=None, iid='warn', n_jobs=-1,\n",
       "       param_grid={'pca__n_components': [10, 50, 90, 110]},\n",
       "       pre_dispatch='2*n_jobs', refit=True, return_train_score='warn',\n",
       "       scoring='f1_macro', verbose=1)"
      ]
     },
     "execution_count": 17,
     "metadata": {},
     "output_type": "execute_result"
    }
   ],
   "source": [
    "# φέρνουμε τις γνωστές μας κλάσεις για preprocessing\n",
    "\n",
    "\n",
    "# αρχικοποιούμε τους εκτιμητές (μετασχηματιστές και ταξινομητή) χωρίς παραμέτρους\n",
    "\n",
    "vt = VarianceThreshold()\n",
    "sc = StandardScaler()\n",
    "os = SMOTE()\n",
    "pca = PCA()\n",
    "rf = RandomForestClassifier()\n",
    "\n",
    "\n",
    "pipe = Pipeline([\n",
    "    ('scaler', sc),\n",
    "    ('sampler', os),\n",
    "    ('pca', pca),\n",
    "    ('classifier', rf)\n",
    "])\n",
    "\n",
    "params = {'pca__n_components': [10, 50, 90, 110]}\n",
    "          'classifier__n_estimators': [100, 101, 102], \n",
    "          'classifier__max_depth': [4, 6, 8, 10]}\n",
    "\n",
    "#βελτιστοποίηση υπερπαραμέτρων για το random forest classifier\n",
    "grid = GridSearchCV(pipe, params, cv=3, scoring='f1_macro', n_jobs=-1, verbose=1)\n",
    "grid.fit(X_train, y_train)"
   ]
  },
  {
   "cell_type": "code",
   "execution_count": 25,
   "metadata": {},
   "outputs": [
    {
     "name": "stderr",
     "output_type": "stream",
     "text": [
      "C:\\Users\\Fotis\\Anaconda3\\lib\\site-packages\\imblearn\\pipeline.py:349: DataConversionWarning: Data with input dtype uint8, int32, float64 were all converted to float64 by StandardScaler.\n",
      "  Xt = transform.transform(Xt)\n"
     ]
    },
    {
     "name": "stdout",
     "output_type": "stream",
     "text": [
      "              precision    recall  f1-score   support\n",
      "\n",
      "           0       0.01      0.02      0.01       185\n",
      "           1       0.01      0.04      0.02       469\n",
      "           2       0.01      0.02      0.01       368\n",
      "           3       0.01      0.04      0.02       737\n",
      "           4       0.04      0.09      0.05      1740\n",
      "           5       0.02      0.06      0.03       764\n",
      "           6       0.02      0.06      0.03       947\n",
      "           7       0.69      0.55      0.61     41030\n",
      "           8       0.01      0.03      0.02       253\n",
      "           9       0.00      0.00      0.00        72\n",
      "          10       0.38      0.30      0.34     20506\n",
      "          11       0.06      0.09      0.07      3368\n",
      "\n",
      "   micro avg       0.42      0.42      0.42     70439\n",
      "   macro avg       0.10      0.11      0.10     70439\n",
      "weighted avg       0.51      0.42      0.46     70439\n",
      "\n",
      "0.41883047743437585\n"
     ]
    }
   ],
   "source": [
    "#εκτιμήσεις για το random forest classifier\n",
    "preds = grid.predict(X_test)\n",
    "from sklearn.metrics  import classification_report\n",
    "from sklearn.metrics  import accuracy_score\n",
    "print(classification_report(y_test, preds))\n",
    "print(accuracy_score(y_test, preds))"
   ]
  },
  {
   "cell_type": "code",
   "execution_count": 19,
   "metadata": {
    "collapsed": true
   },
   "outputs": [
    {
     "name": "stdout",
     "output_type": "stream",
     "text": [
      "Fitting 3 folds for each of 3 candidates, totalling 9 fits\n"
     ]
    },
    {
     "name": "stderr",
     "output_type": "stream",
     "text": [
      "[Parallel(n_jobs=-1)]: Using backend LokyBackend with 12 concurrent workers.\n",
      "[Parallel(n_jobs=-1)]: Done   6 out of   9 | elapsed: 117.9min remaining: 59.0min\n",
      "[Parallel(n_jobs=-1)]: Done   9 out of   9 | elapsed: 172.4min finished\n",
      "C:\\Users\\Fotis\\Anaconda3\\lib\\site-packages\\sklearn\\preprocessing\\data.py:625: DataConversionWarning: Data with input dtype uint8, int32, float64 were all converted to float64 by StandardScaler.\n",
      "  return self.partial_fit(X, y)\n",
      "C:\\Users\\Fotis\\Anaconda3\\lib\\site-packages\\sklearn\\base.py:465: DataConversionWarning: Data with input dtype uint8, int32, float64 were all converted to float64 by StandardScaler.\n",
      "  return self.fit(X, y, **fit_params).transform(X)\n"
     ]
    },
    {
     "data": {
      "text/plain": [
       "GridSearchCV(cv=3, error_score='raise-deprecating',\n",
       "       estimator=Pipeline(memory=None,\n",
       "     steps=[('scaler', StandardScaler(copy=True, with_mean=True, with_std=True)), ('sampler', SMOTE(k_neighbors=5, kind='deprecated', m_neighbors='deprecated', n_jobs=1,\n",
       "   out_step='deprecated', random_state=None, ratio=None,\n",
       "   sampling_strategy='auto', svm_estimator='deprecated')), ('pca', PCA(copy=Tr...\n",
       "       reg_alpha=0, reg_lambda=1, scale_pos_weight=1, seed=None,\n",
       "       silent=True, subsample=1))]),\n",
       "       fit_params=None, iid='warn', n_jobs=-1,\n",
       "       param_grid={'pca__n_components': [10, 50, 90]},\n",
       "       pre_dispatch='2*n_jobs', refit=True, return_train_score='warn',\n",
       "       scoring='f1_macro', verbose=1)"
      ]
     },
     "execution_count": 19,
     "metadata": {},
     "output_type": "execute_result"
    }
   ],
   "source": [
    "from sklearn.feature_selection import VarianceThreshold\n",
    "from sklearn.preprocessing import StandardScaler\n",
    "from imblearn.over_sampling import RandomOverSampler, SMOTE\n",
    "from sklearn.decomposition import PCA\n",
    "\n",
    "from sklearn.model_selection import GridSearchCV\n",
    "from sklearn.ensemble import RandomForestClassifier\n",
    "\n",
    "from xgboost import XGBClassifier\n",
    "sc = StandardScaler()\n",
    "os = SMOTE()\n",
    "pca = PCA()\n",
    "xgb = XGBClassifier()\n",
    "\n",
    "pipe_xgb = Pipeline([\n",
    "    ('scaler', sc),\n",
    "    ('sampler', os),\n",
    "    ('pca', pca),\n",
    "    ('classifier', xgb)\n",
    "])\n",
    "\n",
    "params_xgb = {'pca__n_components': [10, 50, 90]}\n",
    "              #'tree_method': ['gpu_hist']} \n",
    "              #'xgbrg__learning_rate': [0.1, 0.5, 1]}\n",
    "\n",
    "#βελτιστοποίηση υπερπαραμέτρων για το random forest classifier\n",
    "grid_xgb = GridSearchCV(pipe_xgb, params_xgb, cv=3, scoring='f1_macro', n_jobs=-1, verbose=1)\n",
    "grid_xgb.fit(X_train, y_train)"
   ]
  },
  {
   "cell_type": "code",
   "execution_count": 24,
   "metadata": {},
   "outputs": [
    {
     "name": "stderr",
     "output_type": "stream",
     "text": [
      "C:\\Users\\Fotis\\Anaconda3\\lib\\site-packages\\imblearn\\pipeline.py:349: DataConversionWarning: Data with input dtype uint8, int32, float64 were all converted to float64 by StandardScaler.\n",
      "  Xt = transform.transform(Xt)\n"
     ]
    },
    {
     "name": "stdout",
     "output_type": "stream",
     "text": [
      "              precision    recall  f1-score   support\n",
      "\n",
      "           0       0.00      0.15      0.01       185\n",
      "           1       0.01      0.07      0.01       469\n",
      "           2       0.01      0.13      0.02       368\n",
      "           3       0.02      0.10      0.03       737\n",
      "           4       0.04      0.08      0.05      1740\n",
      "           5       0.02      0.05      0.02       764\n",
      "           6       0.02      0.10      0.04       947\n",
      "           7       0.75      0.39      0.52     41030\n",
      "           8       0.00      0.09      0.01       253\n",
      "           9       0.00      0.07      0.00        72\n",
      "          10       0.41      0.07      0.12     20506\n",
      "          11       0.06      0.06      0.06      3368\n",
      "\n",
      "   micro avg       0.26      0.26      0.26     70439\n",
      "   macro avg       0.11      0.11      0.07     70439\n",
      "weighted avg       0.56      0.26      0.34     70439\n",
      "\n"
     ]
    }
   ],
   "source": [
    "#εκτιμήσεις για τον xgboost classifier\n",
    "preds_xgb = grid_xgb.predict(X_test)\n",
    "from sklearn.metrics import classification_report\n",
    "print(classification_report(y_test, preds_xgb))"
   ]
  },
  {
   "cell_type": "code",
   "execution_count": 37,
   "metadata": {},
   "outputs": [],
   "source": [
    "xgb.fit(X_train, y_train)\n",
    "y_pred_3 = xgb.predict(X_test) "
   ]
  },
  {
   "cell_type": "code",
   "execution_count": 38,
   "metadata": {},
   "outputs": [
    {
     "name": "stdout",
     "output_type": "stream",
     "text": [
      "[[    0     0     0     0     0     0     0   103     0     0    82     0]\n",
      " [    0     0     0     0     0     0     0   252     0     0   217     0]\n",
      " [    0     0     0     0     0     0     0   212     0     0   156     0]\n",
      " [    0     0     0     0     0     0     0   465     0     0   272     0]\n",
      " [    0     0     0     0     0     0     0  1027     0     0   713     0]\n",
      " [    0     0     0     0     0     0     0   459     0     0   305     0]\n",
      " [    0     0     0     0     0     0     0   572     0     0   375     0]\n",
      " [    0     0     0     0     0     0     0 35728     0     0  5302     0]\n",
      " [    0     0     0     0     0     0     0   145     0     0   108     0]\n",
      " [    0     0     0     0     0     0     0    48     0     0    24     0]\n",
      " [    0     0     0     0     0     0     0 12017     0     0  8489     0]\n",
      " [    0     0     0     0     0     0     0  2029     0     0  1339     0]]\n"
     ]
    }
   ],
   "source": [
    "print(confusion_matrix(y_test,y_pred_3))"
   ]
  },
  {
   "cell_type": "code",
   "execution_count": 18,
   "metadata": {},
   "outputs": [],
   "source": [
    "train,lab=ros.fit_resample(X_train,y_train)"
   ]
  },
  {
   "cell_type": "markdown",
   "metadata": {},
   "source": [
    "Εφόσον το one hot encoding με PCA και SMOTE έβγαλε τέτοια αποτελέσματα, καταλήγουμε στο ότι δεν ήταν τα κατάλληλα για το πρόβλημά μας. Με περισσότερους πόρους θα κάναμε hyper parameter tuning στον XGBoost, από όπου φαίνεται πως έχουν παρθεί τα καλύτερα αποτελέσματα από το leaderboard του διαγωνισμού. Η καλύτερη δική μας προσπάθεια ήταν χωρίς one hot encoding, με Random Forest και Random Over Sampler. Φαίνεται ότι το one hot encoding κάνει περισσότερο κακό παρά καλό στα decision trees."
   ]
  }
 ],
 "metadata": {
  "kernelspec": {
   "display_name": "Python 3",
   "language": "python",
   "name": "python3"
  },
  "language_info": {
   "codemirror_mode": {
    "name": "ipython",
    "version": 3
   },
   "file_extension": ".py",
   "mimetype": "text/x-python",
   "name": "python",
   "nbconvert_exporter": "python",
   "pygments_lexer": "ipython3",
   "version": "3.7.2"
  }
 },
 "nbformat": 4,
 "nbformat_minor": 2
}
